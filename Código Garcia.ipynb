{
  "cells": [
    {
      "cell_type": "markdown",
      "metadata": {
        "id": "view-in-github",
        "colab_type": "text"
      },
      "source": [
        "<a href=\"https://colab.research.google.com/github/MariaMacedooo/Maria-Macedo/blob/main/C%C3%B3digo%20Garcia.ipynb\" target=\"_parent\"><img src=\"https://colab.research.google.com/assets/colab-badge.svg\" alt=\"Open In Colab\"/></a>"
      ]
    },
    {
      "cell_type": "code",
      "source": [
        "import pandas as pd\n",
        "from sklearn.feature_extraction.text import TfidfVectorizer\n",
        "from sklearn.metrics.pairwise import cosine_similarity\n",
        "import nltk\n",
        "from nltk.corpus import stopwords\n",
        "\n",
        "# Baixar stopwords do NLTK (somente na primeira execução)\n",
        "nltk.download('stopwords')\n",
        "stop_words = set(stopwords.words('english'))\n",
        "\n",
        "# ⚠️ Carregue o arquivo CSV no Google Colab (menu lateral > arquivos > upload)\n",
        "# Em seguida, certifique-se de que o nome do arquivo esteja correto abaixo:\n",
        "df = pd.read_csv(\"test_recipes_single_column.csv\")\n",
        "\n",
        "# Verifique se a coluna esperada existe\n",
        "if 'A' not in df.columns:\n",
        "    raise KeyError(\"O arquivo deve conter uma coluna chamada 'A' com os dados consolidados.\")\n",
        "\n",
        "# Preprocessamento do texto: limpeza e remoção de stopwords\n",
        "def preprocess_text(text):\n",
        "    tokens = str(text).lower().split()\n",
        "    tokens = [token for token in tokens if token not in stop_words]\n",
        "    return ' '.join(tokens)\n",
        "\n",
        "# Aplicar pré-processamento\n",
        "df['processed'] = df['A'].apply(preprocess_text)\n",
        "\n",
        "# Separar nome da receita (assumindo que o nome está logo após o primeiro '|')\n",
        "df['Name'] = df['A'].apply(lambda x: str(x).split('|')[1].strip() if '|' in str(x) else 'Unknown')\n",
        "\n",
        "# Função de recomendação por similaridade de cosseno\n",
        "def recomendar_por_descricao(nome_receita, top_n=5):\n",
        "    if nome_receita not in df['Name'].values:\n",
        "        return f\"❌ Receita '{nome_receita}' não encontrada no dataset.\"\n",
        "\n",
        "    vectorizer = TfidfVectorizer()\n",
        "    tfidf_matrix = vectorizer.fit_transform(df['processed'])\n",
        "\n",
        "    idx = df[df['Name'] == nome_receita].index[0]\n",
        "    cosine_sim = cosine_similarity(tfidf_matrix[idx], tfidf_matrix).flatten()\n",
        "\n",
        "    similar_indices = cosine_sim.argsort()[-top_n-1:-1][::-1]\n",
        "    for i in similar_indices:\n",
        "      print(f\"{df.iloc[i]['Name']} - similaridade: {cosine_sim[i]:.2f}\")\n",
        "# Entrada do usuário\n",
        "nome_busca = input(\"\\nDigite o nome da receita para buscar recomendações: \").strip()\n",
        "\n",
        "# Resultado\n",
        "print(f\"\\n🍽️ Receitas semelhantes a '{nome_busca}':\\n\")\n",
        "recomendar_por_descricao(nome_busca)"
      ],
      "metadata": {
        "id": "aet9qt6CoQND"
      },
      "execution_count": null,
      "outputs": []
    }
  ],
  "metadata": {
    "colab": {
      "name": "Conheça o Colab",
      "toc_visible": true,
      "provenance": [],
      "include_colab_link": true
    },
    "kernelspec": {
      "display_name": "Python 3",
      "name": "python3"
    }
  },
  "nbformat": 4,
  "nbformat_minor": 0
}